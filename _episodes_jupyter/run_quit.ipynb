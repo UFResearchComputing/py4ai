{
 "cells": [
  {
   "cell_type": "markdown",
   "metadata": {},
   "source": [
    "# Python programs are plain text files."
   ]
  },
  {
   "cell_type": "markdown",
   "metadata": {},
   "source": [
    "* They have the `.py` extension to let everyone (including the operating system) know it is a Python program.\n",
    "    * This is convention, not a requirement.\n",
    "* It's common to write them using a text editor but we are going to use the Jupyter Notebook.\n",
    "* The bit of extra setup is well worth it because the Notebook provides code completion and other helpful features.\n",
    "* Notebook files have the extension `.ipynb` to distinguish them from plain-text Python programs.\n",
    "    * Can export as \"pure Python\" to run from the command line."
   ]
  },
  {
   "cell_type": "markdown",
   "metadata": {},
   "source": [
    "# Use the Jupyter Notebook for editing and running Python"
   ]
  },
  {
   "cell_type": "markdown",
   "metadata": {},
   "source": [
    "* The Anaconda package manager is an automated way to install the Jupyter notebook.\n",
    "\n",
    "    * See [Python Intro](python_intro.ipynb) for Anaconda installation instructions.\n",
    "* It also installs all the extra libraries it needs to run.\n",
    "\n",
    "* Once you have installed Python and the Jupyter Notebook requirements, open a shell and type:\n",
    "\n",
    "`$ jupyter notebook`\n",
    "\n",
    "* This will start a Jupyter Notebook server and open your default web browser.\n",
    "\n",
    "* The server runs locally on your machine only and does not use an internet connection.\n",
    "\n",
    "* The server sends messages to your browser.\n",
    "\n",
    "* The server does the work and the web browser renders the notebook.\n",
    "\n",
    "* You can type code into the browser and see the result when the web page talks to the server.\n",
    "\n",
    "* This has several advantages:\n",
    "\n",
    "    * You can easily type, edit, and copy and paste blocks of code.\n",
    "    * Tab complete allows you to easily access the names of things you are using and learn more about them.\n",
    "    * It allows you to annotate your code with links, different sized text, bullets, etc. to make it more accessible to you and your collaborators.\n",
    "    * It allows you to display figures next to the code that produces them to tell a complete story of the analysis."
   ]
  },
  {
   "cell_type": "markdown",
   "metadata": {},
   "source": [
    "![Screenshot of a Jupyter Notebook on quantum mechanics by Robert Johansson](https://github.com/mydatastory-dev/py_intro_class/blob/master/fig/jupyter_notebook_example.jpg?raw=true)"
   ]
  },
  {
   "cell_type": "markdown",
   "metadata": {},
   "source": [
    "# How It's Stored"
   ]
  },
  {
   "cell_type": "markdown",
   "metadata": {},
   "source": [
    "* The notebook file is stored in a format called JSON.\n",
    "* Just like a webpage, what's saved looks different from what you see in your browser.\n",
    "* But this format allows Jupyter to mix source code, text, and images, all in one file."
   ]
  },
  {
   "cell_type": "markdown",
   "metadata": {},
   "source": [
    "# The Notebook has Command and Edit modes."
   ]
  },
  {
   "cell_type": "markdown",
   "metadata": {},
   "source": [
    "* Open a new notebook from the dropdown menu (that says 'New') in the top right corner of the file browser page.\n",
    "* Each notebook contains one or more cells that contain code, text, or images."
   ]
  },
  {
   "cell_type": "markdown",
   "metadata": {},
   "source": [
    "### Code vs. Text"
   ]
  },
  {
   "cell_type": "markdown",
   "metadata": {},
   "source": [
    "We often use the term \"code\" to mean \"the source code of software written in a language such as Python\". A \"code cell\" in a Notebook is a cell that contains software; a \"text cell\" is one that contains ordinary prose written for human beings. "
   ]
  },
  {
   "cell_type": "markdown",
   "metadata": {},
   "source": [
    "* If you press \"esc\" and \"return\" alternately, the outer border of your code cell will change from gray/blue to green.\n",
    "    * The difference in color is subtle.\n",
    "* These are the command (gray) and edit (green) modes of your notebook.\n",
    "* In command mode, pressing the \"H\" key will provide a list of all the shortcut keys.\n",
    "* Command mode alows you to edit notebook-level features, and edit mode changes the content of cells.\n",
    "* When in command mode (esc/gray),\n",
    "    * The \"B\" key will make a new cell below the currently selected cell.\n",
    "    * The \"A\" key will make one above.\n",
    "    * The \"X\" key will delete the current cell.\n",
    "    * The \"Z\" key will undo your last cell deletion.\n",
    "* All actions can be done using the menus, but there are lots of keyboard shortcuts to speed things up.\n",
    "* If you remember the \"esc\" and \"H\" shortcut, you will be able to find out all the rest."
   ]
  },
  {
   "cell_type": "markdown",
   "metadata": {},
   "source": [
    "### Command Vs. Edit"
   ]
  },
  {
   "cell_type": "markdown",
   "metadata": {},
   "source": [
    "In the Jupyter notebook page are you currently in command or edit mode?  \n",
    "Switch between the modes. Use the shortcuts to generate a new cell. Use the shortcuts to delete a cell"
   ]
  },
  {
   "cell_type": "markdown",
   "metadata": {},
   "source": [
    "#### Solution"
   ]
  },
  {
   "cell_type": "markdown",
   "metadata": {},
   "source": [
    "Command mode has a grey boarder and Edit mode has a green border. Use \"esc\" and \"Enter\" to switch between modes. You need to be in command mode (Hit \"esc\" if your cell is green). Type \"B\" or \"A\". You need to be in command mode (Hit \"esc\" if your cell is green). Type \"X\"."
   ]
  },
  {
   "cell_type": "markdown",
   "metadata": {},
   "source": [
    "# Use the keyboard and mouse to select and edit cells."
   ]
  },
  {
   "cell_type": "markdown",
   "metadata": {},
   "source": [
    "* Pressing the \"return\" key turns the border green and engages edit mode, which allows you to type within the cell.\n",
    "* Because we want to be able to write many lines of code in a single cell, pressing the \"return\" key when in edit mode (green) moves the cursor to the next line in the cell just like in a text editor.\n",
    "* We need some other way to tell the Notebook we want to run what's in the cell.\n",
    "* Pressing the \"shift\" and the \"enter\" key together will execute the contents of the cell.\n",
    "* Notice that the \"return\" and \"shift\" keys on the right of the keyboard are right next to each other."
   ]
  },
  {
   "cell_type": "markdown",
   "metadata": {},
   "source": [
    "# The Notebook will turn Markdown into pretty-printed documentation."
   ]
  },
  {
   "cell_type": "markdown",
   "metadata": {},
   "source": [
    "* Notebooks can also render Markdown.\n",
    "    * A simple plain-text format for writing lists, links, and other things that might go into a web page.\n",
    "    * Equivalently, a subset of HTML that looks like what you'd send in an old-fashioned email.\n",
    "* Turn the current cell into a Markdown cell by entering the command mode (esc/gray) and press the \"M\" key.\n",
    "* `In [ ]:` will disappear to show it is no longer a code cell and you will be able to write in Markdown.\n",
    "* Turn the current cell into a Code cell by entering the command mode (esc/gray) and press the \"Y\" key."
   ]
  },
  {
   "cell_type": "markdown",
   "metadata": {},
   "source": [
    "# Markdown does most of what HTML does."
   ]
  },
  {
   "cell_type": "markdown",
   "metadata": {},
   "source": [
    "Take a look at this cheatsheet for [Markdown](https://github.com/adam-p/markdown-here/wiki/Markdown-Cheatsheet)"
   ]
  }
 ],
 "metadata": {
  "kernelspec": {
   "display_name": "Python 3",
   "language": "python",
   "name": "python3"
  },
  "language_info": {
   "codemirror_mode": {
    "name": "ipython",
    "version": 3
   },
   "file_extension": ".py",
   "mimetype": "text/x-python",
   "name": "python",
   "nbconvert_exporter": "python",
   "pygments_lexer": "ipython3",
   "version": "3.6.5"
  }
 },
 "nbformat": 4,
 "nbformat_minor": 2
}
