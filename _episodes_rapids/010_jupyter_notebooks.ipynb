{
 "cells": [
  {
   "cell_type": "markdown",
   "metadata": {},
   "source": [
    "# Jupyter Notebooks"
   ]
  },
  {
   "cell_type": "markdown",
   "metadata": {},
   "source": [
    "Before you begin programming, we would like to familiarize you with your interactive coding environment. This workshop utilizes the web-based coding interface [Jupyter Notebooks](https://jupyterlab.readthedocs.io/en/stable/) to execute code on HiperGator. All necessary libraries have already been installed for you.\n",
    "\n",
    "Even if you're an experienced Jupyter user, be sure to read the *Jupyter Kernels* section which provides some specific instructions for managing Jupyter kernels during this workshop."
   ]
  },
  {
   "cell_type": "markdown",
   "metadata": {},
   "source": [
    "## Notebook Organization"
   ]
  },
  {
   "cell_type": "markdown",
   "metadata": {},
   "source": [
    "This workshop is broken into many small notebooks, each with numerical prefixes. You can view all the notebooks available to you in a section of the workshop by clicking on the folder-shaped icon along the left sidebar. Alternatively, if you can already see the files, clicking on this icon will hide them, which we highly recommend you do to give yourself more space while working on the materials."
   ]
  },
  {
   "cell_type": "markdown",
   "metadata": {},
   "source": [
    "![better view](images/better_view.png)"
   ]
  },
  {
   "cell_type": "markdown",
   "metadata": {},
   "source": [
    "## Notebooks have Command and Edit modes."
   ]
  },
  {
   "cell_type": "markdown",
   "metadata": {},
   "source": [
    "* Open a new notebook by clicking File -> New and then selecting Notebook or by double-clicking an existing notebook in the current folder.\n",
    "* Each notebook contains one or more cells that contain code, text, or images.\n",
    "* If you press <kbd>esc</kbd>, the background of the cell you are currently in turns grey.\n",
    "     * The difference in color is subtle.\n",
    "* These are the command (grey) and edit (blue) modes of your notebook.\n",
    "* Command mode alows you to edit notebook-level features, and edit mode changes the content of cells.\n",
    "* When in command mode (esc/grey),\n",
    "    * The <kbd>B</kbd> key will make a new cell below the currently selected cell.\n",
    "    * The <kbd>A</kbd> key will make one above.\n",
    "    * The <kbd>X</kbd> key will delete the current cell.\n",
    "    * The <kbd>Z</kbd> key will undo your last cell deletion.\n",
    "* All actions can be done using the menus, but there are lots of keyboard shortcuts to speed things up."
   ]
  },
  {
   "cell_type": "markdown",
   "metadata": {},
   "source": [
    "## Use the keyboard and mouse to select & edit cells"
   ]
  },
  {
   "cell_type": "markdown",
   "metadata": {},
   "source": [
    "* Pressing the <kbd>enter</kbd> key turns the border blue and engages edit mode, which allows you to type within the cell.\n",
    "* Because we want to be able to write many lines of code in a single cell, pressing the `enter` key when in edit mode (blue) moves the cursor to the next line in the cell just like in a text editor.\n",
    "* We need some other way to tell the Notebook we want to run what's in the cell.\n",
    "* Pressing the <kbd>shift</kbd> and the <kbd>enter</kbd> key together will execute the contents of the cell.\n",
    "* Notice that the <kbd>return</kbd> and <kbd>shift</kbd> keys on the right of the keyboard are right next to each other."
   ]
  },
  {
   "cell_type": "markdown",
   "metadata": {},
   "source": [
    "Practice: Edit and execute (shift+enter) the cell immediately below:"
   ]
  },
  {
   "cell_type": "code",
   "execution_count": null,
   "metadata": {},
   "outputs": [],
   "source": [
    "print('Welcome to deep learning!')"
   ]
  },
  {
   "cell_type": "markdown",
   "metadata": {},
   "source": [
    "## Notebooks Render Markdown"
   ]
  },
  {
   "cell_type": "markdown",
   "metadata": {},
   "source": [
    "* Notebooks can also render Markdown.\n",
    "    * A simple plain-text format for writing lists, links, and other things that might go into a web page.\n",
    "    * Equivalently, a subset of HTML that looks like what you'd send in an old-fashioned email.\n",
    "* Turn the current cell into a Markdown cell by clicking on it and then selecting Markdown from the dropdown at the top.\n",
    "* `[ ]:` will disappear to show it is no longer a code cell and you will be able to write in Markdown.\n",
    "\n",
    "**Markdown Cheat-Sheet**"
   ]
  },
  {
   "cell_type": "code",
   "execution_count": 6,
   "metadata": {
    "jupyter": {
     "source_hidden": true
    }
   },
   "outputs": [
    {
     "data": {
      "text/html": [
       "<iframe src=\"https://commonmark.org/help/\" width=\"800\" height=\"300\" style=\"overflow: hidden;\"></iframe>\n"
      ],
      "text/plain": [
       "<IPython.core.display.HTML object>"
      ]
     },
     "metadata": {},
     "output_type": "display_data"
    }
   ],
   "source": [
    "%%html\n",
    "<iframe src=\"https://commonmark.org/help/\" width=\"800\" height=\"300\" style=\"overflow: hidden;\"></iframe>"
   ]
  },
  {
   "cell_type": "markdown",
   "metadata": {},
   "source": [
    "## Available GPU Accelerators"
   ]
  },
  {
   "cell_type": "markdown",
   "metadata": {},
   "source": [
    "We can use these interactive cells to run shell commands by prefixing them with `!`. For example, execute the following cell to run the shell command `nvidia-smi`, which will print information about your environment's available GPUs, their current memory usage, and any processes currently utilizing them:"
   ]
  },
  {
   "cell_type": "code",
   "execution_count": null,
   "metadata": {},
   "outputs": [],
   "source": [
    "!nvidia-smi"
   ]
  },
  {
   "cell_type": "markdown",
   "metadata": {},
   "source": [
    "As you can see almost no GPU memory is being used right now, and, there are no active processes utilizing the GPUs. Throughout the lab you can use this command to keep an eye on memory usage. As a general rule of thumb when doing data analysis on the GPU, we try to keep about half the GPU memory free for operations which will expand the data stored on the GPU device."
   ]
  },
  {
   "cell_type": "markdown",
   "metadata": {},
   "source": [
    "## Magic Commands"
   ]
  },
  {
   "cell_type": "markdown",
   "metadata": {},
   "source": [
    "Jupyter coding environments come installed with *magic* commands, which can be recognized by the presence of `%` or `%%`. We will be using two magic commands liberally in this workshop:\n",
    "1. `%time` and `%%time` which will print summary information about how long it took to run code for a line or entire cell respectively.\n",
    "2. `%load` which will load the contents of a given file into the cell. We will be using this magic primarily to load example solutions for after you complete exercises.\n",
    "\n",
    "Execute the following three code cells to see how the magic commands work:"
   ]
  },
  {
   "cell_type": "markdown",
   "metadata": {},
   "source": [
    "### Magic Commands `%time` and `%%time`"
   ]
  },
  {
   "cell_type": "code",
   "execution_count": null,
   "metadata": {},
   "outputs": [],
   "source": [
    "from time import sleep\n",
    "\n",
    "%time sleep(2) # %time only times one line\n",
    "sleep(1)"
   ]
  },
  {
   "cell_type": "code",
   "execution_count": null,
   "metadata": {},
   "outputs": [],
   "source": [
    "%%time\n",
    "# %%time will time the entire cell\n",
    "\n",
    "sleep(1)\n",
    "sleep(1)"
   ]
  },
  {
   "cell_type": "markdown",
   "metadata": {},
   "source": [
    "### Magic Command `%load`"
   ]
  },
  {
   "cell_type": "markdown",
   "metadata": {},
   "source": [
    "Execute the cell below to use the `%load` magic command. Execute it a second time to run the code that gets loaded."
   ]
  },
  {
   "cell_type": "code",
   "execution_count": null,
   "metadata": {},
   "outputs": [],
   "source": [
    "%load solutions/load_solution"
   ]
  },
  {
   "cell_type": "markdown",
   "metadata": {},
   "source": [
    "## Jupyter Kernels"
   ]
  },
  {
   "cell_type": "markdown",
   "metadata": {},
   "source": [
    "The compute backend for Jupyter (as opposed to this web front-end you are viewing) is called the *kernel*. You can see the name for the current kernel being used by this Jupyter notebook front end:"
   ]
  },
  {
   "cell_type": "markdown",
   "metadata": {},
   "source": [
    "![kernel name](images/kernel_name.png)"
   ]
  },
  {
   "cell_type": "markdown",
   "metadata": {},
   "source": [
    "### Managing Kernels in This Workshop"
   ]
  },
  {
   "cell_type": "markdown",
   "metadata": {},
   "source": [
    "This workshop consists of several smallish notebooks, each intended to stand alone with regard to memory and computation. However, the Jupyter environment starts up a separate kernel for each new notebook which means:\n",
    "\n",
    "1. Notebooks other than the one you are working on may still have memory allocated for *their unique kernel*\n",
    "2. Restarting the kernel from the *Kernel* menu will only clear the memory for *your current notebook's kernel*"
   ]
  },
  {
   "cell_type": "markdown",
   "metadata": {},
   "source": [
    "#### Best Practice: Restart the kernel at the end of every notebook"
   ]
  },
  {
   "cell_type": "markdown",
   "metadata": {},
   "source": [
    "Be sure, at the **end** of every notebook, to clear memory from its unique kernel. You can do this either by restarting the kernel using the *Kernel Menu*..."
   ]
  },
  {
   "cell_type": "markdown",
   "metadata": {},
   "source": [
    "![kernel menu](images/kernel_menu.png)"
   ]
  },
  {
   "cell_type": "markdown",
   "metadata": {},
   "source": [
    "...or by executing provided code cells which shutdown the kernel. When you click the following cell you will see a popup indicating the kernel has restarted."
   ]
  },
  {
   "cell_type": "code",
   "execution_count": null,
   "metadata": {},
   "outputs": [],
   "source": [
    "import IPython\n",
    "app = IPython.Application.instance()\n",
    "app.kernel.do_shutdown(True)"
   ]
  },
  {
   "cell_type": "markdown",
   "metadata": {},
   "source": [
    "It's unlikely you'll need to restart the kernel for any other reason than to clean GPU memory, but if needed, you can use these same methods to restart a notebook's kernel at any time."
   ]
  },
  {
   "cell_type": "markdown",
   "metadata": {},
   "source": [
    "#### Best Practice: Fix Out of Memory Errors"
   ]
  },
  {
   "cell_type": "markdown",
   "metadata": {},
   "source": [
    "If you should ever forget to restart the kernel for a notebook before you leave it, you might unexpectedly run out of GPU memory in ensuing notebooks, which were intended to have clear memory before beginning.\n",
    "\n",
    "**Any time you run out of GPU memory:**\n",
    "\n",
    "1. Use `nvidia-smi` to observe whether there is memory allocated on the GPU(s)\n",
    "2. Look for notebooks with active kernels in the *File Browser*"
   ]
  },
  {
   "cell_type": "markdown",
   "metadata": {},
   "source": [
    "![view active kernels](images/active_kernel_files.png)"
   ]
  },
  {
   "cell_type": "markdown",
   "metadata": {},
   "source": [
    "3. Shutdown active kernels via the *Running Terminals and Kernels* menu"
   ]
  },
  {
   "cell_type": "markdown",
   "metadata": {},
   "source": [
    "![running_kernels](images/running_kernels.png)"
   ]
  },
  {
   "cell_type": "markdown",
   "metadata": {},
   "source": [
    "## Terminals"
   ]
  },
  {
   "cell_type": "markdown",
   "metadata": {},
   "source": [
    "Begin typing `terminal` into *Commands* to open a new terminal where you can do pretty much anything you would from a `bash` shell. Here's an example of running `nvidia-smi` every second to keep an eye on GPU memory:"
   ]
  },
  {
   "cell_type": "markdown",
   "metadata": {},
   "source": [
    "![watch gpu](images/watch_gpu.png)"
   ]
  },
  {
   "cell_type": "markdown",
   "metadata": {},
   "source": [
    "## Questions\n",
    "#### Q1: Creating Lists in Markdown\n",
    "Create a nested list in a Markdown cell in a notebook that looks like this:\n",
    "\n",
    "1.  Get funding.\n",
    "2.  Do work.\n",
    "    *   Design experiment.\n",
    "    *   Collect data.\n",
    "    *   Analyze.\n",
    "3.  Write up.\n",
    "4.  Publish."
   ]
  },
  {
   "cell_type": "markdown",
   "metadata": {},
   "source": [
    "**Solution**\n",
    "\n",
    "Click on the '...' below to show the solution."
   ]
  },
  {
   "cell_type": "code",
   "execution_count": null,
   "metadata": {
    "jupyter": {
     "source_hidden": true
    }
   },
   "outputs": [],
   "source": [
    "# Get funding.\n",
    "# Do work.\n",
    "# * Design experiment.\n",
    "# * Collect data.\n",
    "# * Analyze.\n",
    "# Write up.\n",
    "# Publish."
   ]
  },
  {
   "cell_type": "markdown",
   "metadata": {},
   "source": [
    "#### Q2: More Math\n",
    "What is displayed when a Python cell in a notebook that contains several calculations is executed? For example, what > happens when this cell is executed?"
   ]
  },
  {
   "cell_type": "code",
   "execution_count": null,
   "metadata": {},
   "outputs": [],
   "source": [
    "7 * 3\n",
    "2 + 1"
   ]
  },
  {
   "cell_type": "markdown",
   "metadata": {},
   "source": [
    "**Solution**\n",
    "\n",
    "Execute the cell"
   ]
  },
  {
   "cell_type": "markdown",
   "metadata": {},
   "source": [
    "#### Q3: Change an Existing Cell from Code to Markdown\n",
    "What happens if you write some Python in a code cell and then you switch it to a Markdown cell? For example, put the following in a code cell:"
   ]
  },
  {
   "cell_type": "code",
   "execution_count": null,
   "metadata": {},
   "outputs": [],
   "source": [
    "x = 6 * 7 + 12\n",
    "print(x)"
   ]
  },
  {
   "cell_type": "markdown",
   "metadata": {},
   "source": [
    "And then run it with **Shift+Enter** to be sure that it works as a code cell. Now go back to the cell and use **Esc** then **M** > to switch the cell to Markdown and “run” it with **Shift+Enter**. What happened and how might this be useful? \n",
    "\n",
    "**Solution**\n",
    "\n",
    "Click on the '...' below to show the solution."
   ]
  },
  {
   "cell_type": "code",
   "execution_count": null,
   "metadata": {
    "jupyter": {
     "source_hidden": true
    }
   },
   "outputs": [],
   "source": [
    "# The Python code gets treated like Markdown text. The lines appear as if they \n",
    "# are part of one contiguous paragraph. This could be useful to temporarily turn\n",
    "# on and off cells in notebooks that get used for multiple purposes.\n",
    "\n",
    "# x = 6 * 7 + 12 print(x)"
   ]
  },
  {
   "cell_type": "markdown",
   "metadata": {},
   "source": [
    "#### Q4: Equations\n",
    "Standard Markdown (such as we're using for these notes) won't render equations, but the Notebook will.  Create a new > Mardown cell and enter the following:\n",
    "\n",
    "`$\\sum_{i=1}^{N} 2^{-i} \\approx 1$`\n",
    "\n",
    "(It’s probably easier to copy and paste.) What does it display? What do you think the underscore, _, circumflex, ^, \n",
    "and dollar sign, $, do?\n",
    "\n",
    "**Solution**\n",
    "\n",
    "Click on the '...' below to show the solution."
   ]
  },
  {
   "cell_type": "code",
   "execution_count": null,
   "metadata": {
    "jupyter": {
     "source_hidden": true
    }
   },
   "outputs": [],
   "source": [
    "# The notebook shows the equation as it would be rendered from LaTeX equation \n",
    "# syntax. The dollar sign, $, is used to tell Markdown that the text in between is \n",
    "# a LaTeX equation. If you’re not familiar with LaTeX, underscore, _, is used for \n",
    "# subscripts and circumflex, ^, is used for superscripts. A pair of curly braces, \n",
    "# { and }, is used to group text together so that the statement i=1 becomes the \n",
    "# the subscript and N becomes the superscript. Similarly, -i is in curly braces \n",
    "# to make the whole statement the superscript for 2. \\sum and \\approx are LaTeX \n",
    "# commands for “sum over” and “approximate” symbols."
   ]
  },
  {
   "cell_type": "markdown",
   "metadata": {},
   "source": [
    "## Reminder: Restart the Kernel at the End of Notebooks"
   ]
  },
  {
   "cell_type": "markdown",
   "metadata": {},
   "source": [
    "There are many small notebooks that you will be working through in this workshop, and our intent is for you to start with clean GPU memory and namespace for each kernel. With that in mind, we will ask you to **restart the kernel at the end of every notebook**, to clear the stage for the next.\n",
    "\n",
    "Although you have not done any computing yet, use the *Kernel* menu now to restart the kernel before proceeding to the next notebook, just to get in the habit."
   ]
  }
 ],
 "metadata": {
  "kernelspec": {
   "display_name": "Python 3.8 (basic)",
   "language": "python",
   "name": "python3"
  },
  "language_info": {
   "codemirror_mode": {
    "name": "ipython",
    "version": 3
   },
   "file_extension": ".py",
   "mimetype": "text/x-python",
   "name": "python",
   "nbconvert_exporter": "python",
   "pygments_lexer": "ipython3",
   "version": "3.8.1"
  }
 },
 "nbformat": 4,
 "nbformat_minor": 4
}
